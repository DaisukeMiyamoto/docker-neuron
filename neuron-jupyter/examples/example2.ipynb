{
 "cells": [
  {
   "cell_type": "code",
   "execution_count": 1,
   "metadata": {
    "collapsed": true
   },
   "outputs": [],
   "source": [
    "import numpy as np\n",
    "import matplotlib.pyplot as plt\n",
    "import neuron"
   ]
  },
  {
   "cell_type": "code",
   "execution_count": 2,
   "metadata": {},
   "outputs": [],
   "source": [
    "def calc(tstop=300):\n",
    "\n",
    "    # setup soma\n",
    "    soma = neuron.h.Section(name=\"soma\")\n",
    "    soma.nseg = 1\n",
    "    soma.diam = 10\n",
    "    soma.L = 10\n",
    "    soma.insert(\"hh\")\n",
    "\n",
    "    # setup dendrite\n",
    "    ndend = 2\n",
    "    dends = []\n",
    "    for i in range(ndend):\n",
    "        dend = neuron.h.Section()\n",
    "        dend.nseg = 5\n",
    "        dend.L = 300\n",
    "        dend.diam = 0.5\n",
    "        dend.Ra = 125\n",
    "        dend.insert(\"pas\")\n",
    "        dend.connect(soma, 0)\n",
    "        dends.append(dend)\n",
    "\n",
    "    # setup stimulation to soma\n",
    "    stim = neuron.h.IClamp(soma(0.5))\n",
    "    stim.delay = 100\n",
    "    stim.dur = 100\n",
    "    stim.amp = 0.1\n",
    "\n",
    "    # setup recorder\n",
    "    rec_t = neuron.h.Vector()\n",
    "    rec_t.record(neuron.h._ref_t)\n",
    "    rec_v_array = []\n",
    "    rec_v_array.append(neuron.h.Vector())\n",
    "    rec_v_array[-1].record(soma(0.5)._ref_v)\n",
    "    rec_v_array.append(neuron.h.Vector())\n",
    "    rec_v_array[-1].record(dends[0](0.9)._ref_v)\n",
    "\n",
    "    # initialize and run\n",
    "    neuron.h.finitialize(-65)\n",
    "    neuron.run(tstop)\n",
    "    \n",
    "    # convert recored information to ndarray\n",
    "    t = np.array(rec_t.as_numpy())\n",
    "    v_array = []\n",
    "    for rec_v in rec_v_array:\n",
    "        v_array.append(np.array(rec_v.as_numpy()))\n",
    "\n",
    "    return t, v_array"
   ]
  },
  {
   "cell_type": "code",
   "execution_count": 3,
   "metadata": {
    "collapsed": true
   },
   "outputs": [],
   "source": [
    "def plot_voltage_array(t, v_array):\n",
    "    for v in v_array:\n",
    "        plt.plot(t, v)\n",
    "    plt.xlabel(\"Time [ms]\")\n",
    "    plt.ylabel(\"Voltage [mV]\")\n",
    "    plt.axis(xmin=0, xmax=max(t), ymin=-80, ymax=50)\n",
    "    plt.show()"
   ]
  },
  {
   "cell_type": "code",
   "execution_count": 4,
   "metadata": {},
   "outputs": [
    {
     "data": {
      "image/png": "[encoded data removed]",
      "text/plain": [
       "<matplotlib.figure.Figure at 0x7fa5e4bee410>"
      ]
     },
     "metadata": {},
     "output_type": "display_data"
    }
   ],
   "source": [
    "t, v_array = calc()\n",
    "plot_voltage_array(t, v_array)"
   ]
  }
 ],
 "metadata": {
  "kernelspec": {
   "display_name": "Python 2",
   "language": "python",
   "name": "python2"
  },
  "language_info": {
   "codemirror_mode": {
    "name": "ipython",
    "version": 2.0
   },
   "file_extension": ".py",
   "mimetype": "text/x-python",
   "name": "python",
   "nbconvert_exporter": "python",
   "pygments_lexer": "ipython2",
   "version": "2.7.12"
  }
 },
 "nbformat": 4,
 "nbformat_minor": 0
}