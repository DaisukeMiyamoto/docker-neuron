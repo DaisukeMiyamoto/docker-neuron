{
 "cells": [
  {
   "cell_type": "markdown",
   "metadata": {},
   "source": [
    "# NEURON+Python example4\n",
    "\n",
    "Cell array simulation (not complete)"
   ]
  },
  {
   "cell_type": "code",
   "execution_count": 1,
   "metadata": {
    "collapsed": true
   },
   "outputs": [],
   "source": [
    "import numpy as np\n",
    "import matplotlib.pyplot as plt\n",
    "import neuron"
   ]
  },
  {
   "cell_type": "code",
   "execution_count": 2,
   "metadata": {
    "collapsed": true
   },
   "outputs": [],
   "source": [
    "def calc(tstop=300):\n",
    "\n",
    "    # setup cells\n",
    "    ncell = 2\n",
    "    cells = []\n",
    "    for i in range(ncell):\n",
    "        cell = neuron.h.Section()\n",
    "        cell.nseg = 1\n",
    "        cell.diam = 10\n",
    "        cell.L = 10\n",
    "        cell.insert(\"hh\")\n",
    "        cells.append(cell)\n",
    "\n",
    "    # add alpha synapse stimulation    \n",
    "    stim = neuron.h.AlphaSynapse(cells[0](0.5))\n",
    "    stim.onset = 100\n",
    "    stim.gmax = 0.2\n",
    "\n",
    "    # setup recorder\n",
    "    rec_t = neuron.h.Vector()\n",
    "    rec_t.record(neuron.h._ref_t)\n",
    "\n",
    "    rec_v_array = []\n",
    "    for i in range(ncell):\n",
    "        rec_v_array.append(neuron.h.Vector())\n",
    "        rec_v_array[-1].record(cells[i](0.5)._ref_v)\n",
    "\n",
    "    # initialize and run\n",
    "    neuron.h.finitialize(-65)\n",
    "    neuron.run(tstop)\n",
    "    \n",
    "    # convert recored information to ndarray\n",
    "    t = np.array(rec_t.as_numpy())\n",
    "    v_array = []\n",
    "    for rec_v in rec_v_array:\n",
    "        v_array.append(np.array(rec_v.as_numpy()))\n",
    "\n",
    "    return t, v_array"
   ]
  },
  {
   "cell_type": "code",
   "execution_count": 3,
   "metadata": {
    "collapsed": true
   },
   "outputs": [],
   "source": [
    "def plot_voltage_array(t, v_array):\n",
    "    for v in v_array:\n",
    "        plt.plot(t, v)\n",
    "    plt.xlabel(\"Time [ms]\")\n",
    "    plt.ylabel(\"Voltage [mV]\")\n",
    "    plt.axis(xmin=0, xmax=max(t), ymin=-80, ymax=50)\n",
    "    plt.show()"
   ]
  },
  {
   "cell_type": "code",
   "execution_count": 4,
   "metadata": {},
   "outputs": [
    {
     "data": {
      "image/png": "[encoded data removed]",
      "text/plain": [
       "<matplotlib.figure.Figure at 0x7f378e34df50>"
      ]
     },
     "metadata": {},
     "output_type": "display_data"
    }
   ],
   "source": [
    "t, v_array = calc()\n",
    "plot_voltage_array(t, v_array)"
   ]
  },
  {
   "cell_type": "code",
   "execution_count": null,
   "metadata": {
    "collapsed": true
   },
   "outputs": [],
   "source": [
    ""
   ]
  }
 ],
 "metadata": {
  "kernelspec": {
   "display_name": "Python 2",
   "language": "python",
   "name": "python2"
  },
  "language_info": {
   "codemirror_mode": {
    "name": "ipython",
    "version": 2.0
   },
   "file_extension": ".py",
   "mimetype": "text/x-python",
   "name": "python",
   "nbconvert_exporter": "python",
   "pygments_lexer": "ipython2",
   "version": "2.7.12"
  }
 },
 "nbformat": 4,
 "nbformat_minor": 0
}